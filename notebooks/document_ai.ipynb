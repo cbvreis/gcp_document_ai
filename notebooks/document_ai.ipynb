{
 "cells": [
  {
   "cell_type": "code",
   "execution_count": 72,
   "metadata": {
    "collapsed": true
   },
   "outputs": [],
   "source": [
    "import pandas as pd\n",
    "from google.cloud import documentai_v1 as documentai\n",
    "from google.oauth2 import service_account\n"
   ]
  },
  {
   "cell_type": "code",
   "execution_count": 73,
   "outputs": [],
   "source": [
    "def authentication(file_path):\n",
    "    '''\n",
    "    Authenticate with Google Cloud Platform\n",
    "    :param file_path:\n",
    "    :return:\n",
    "    '''\n",
    "    if file_path is not None:\n",
    "        try:\n",
    "            credentials = service_account.Credentials.from_service_account_file(file_path)\n",
    "            return credentials\n",
    "        except Exception as e:\n",
    "            print(e)\n",
    "            return None\n",
    "    else:\n",
    "        return None\n"
   ],
   "metadata": {
    "collapsed": false,
    "pycharm": {
     "name": "#%%\n"
    }
   }
  },
  {
   "cell_type": "code",
   "execution_count": 74,
   "outputs": [],
   "source": [
    "def get_document_orc(project_id :str, file_path : str, location: str, processor :str)->str:\n",
    "    '''\n",
    "    Get the text from a document\n",
    "    :param project_id:\n",
    "    :param file_path:\n",
    "    :param location:\n",
    "    :param processor:\n",
    "    :return:\n",
    "    '''\n",
    "    credentials = authentication('../access_token/token.json')\n",
    "    documentai_client = documentai.DocumentProcessorServiceClient(credentials=credentials)\n",
    "    mime_type = 'application/pdf'\n",
    "    resource_name = documentai_client.processor_path(\n",
    "            project_id, location, processor\n",
    "    )\n",
    "    with open(file_path, \"rb\") as image:\n",
    "        image_content = image.read()\n",
    "\n",
    "        # Load Binary Data into Document AI RawDocument Object\n",
    "        raw_document = documentai.RawDocument(\n",
    "            content=image_content, mime_type=mime_type)\n",
    "\n",
    "        # Configure the process request number pages max\n",
    "\n",
    "        request = documentai.ProcessRequest(\n",
    "            name=resource_name, raw_document=raw_document)\n",
    "\n",
    "        # Use the Document AI client to process the sample form\n",
    "        result = documentai_client.process_document(request=request)\n",
    "    return result.document.text"
   ],
   "metadata": {
    "collapsed": false,
    "pycharm": {
     "name": "#%%\n"
    }
   }
  },
  {
   "cell_type": "code",
   "execution_count": 75,
   "outputs": [],
   "source": [
    "txt = get_document_orc('#PROJECT_ID','#FILE_LOCATION','#LOCATION','#PROCESSOR_ID')"
   ],
   "metadata": {
    "collapsed": false,
    "pycharm": {
     "name": "#%%\n"
    }
   }
  },
  {
   "cell_type": "code",
   "execution_count": null,
   "outputs": [],
   "source": [
    "txt.document.text"
   ],
   "metadata": {
    "collapsed": false,
    "pycharm": {
     "name": "#%%\n"
    }
   }
  }
 ],
 "metadata": {
  "kernelspec": {
   "display_name": "Python 3",
   "language": "python",
   "name": "python3"
  },
  "language_info": {
   "codemirror_mode": {
    "name": "ipython",
    "version": 2
   },
   "file_extension": ".py",
   "mimetype": "text/x-python",
   "name": "python",
   "nbconvert_exporter": "python",
   "pygments_lexer": "ipython2",
   "version": "2.7.6"
  }
 },
 "nbformat": 4,
 "nbformat_minor": 0
}