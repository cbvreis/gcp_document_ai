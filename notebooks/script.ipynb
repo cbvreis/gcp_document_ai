{
 "cells": [
  {
   "cell_type": "code",
   "execution_count": 19,
   "metadata": {
    "scrolled": true
   },
   "outputs": [],
   "source": [
    "from google.cloud import documentai as documentai\n",
    "import gcsfs\n",
    "import json\n",
    "from google.oauth2 import service_account\n",
    "import re\n"
   ]
  },
  {
   "cell_type": "code",
   "execution_count": 2,
   "metadata": {},
   "outputs": [],
   "source": [
    "def get_document_orc(project_id :str, location: str, processor :str, blob,credentials )->str:\n",
    "    '''\n",
    "    Get the text from a document\n",
    "    :param project_id:\n",
    "    :param file_path:\n",
    "    :param location:\n",
    "    :param processor:\n",
    "    :param blob\n",
    "    :return:\n",
    "    '''\n",
    "    \n",
    "    documentai_client = documentai.DocumentProcessorServiceClient(credentials=credentials)\n",
    "    mime_type = 'application/pdf'\n",
    "    resource_name = documentai_client.processor_path(\n",
    "            project_id, location, processor\n",
    "    )\n",
    "    \n",
    "\n",
    "    # Load Binary Data into Document AI RawDocument Object\n",
    "    raw_document = documentai.RawDocument(\n",
    "        content=blob.download_as_bytes(), mime_type=mime_type)\n",
    "    print('-----SUCCESS RawDocument -------')\n",
    "    \n",
    "    # Configure the process request\n",
    "    request = documentai.ProcessRequest(\n",
    "        name=resource_name, raw_document=raw_document)\n",
    "    print('-----SUCCESS REQUEST -------')\n",
    "    # Use the Document AI client to process the sample form\n",
    "    \n",
    "    result = documentai_client.process_document(request=request)\n",
    "    print('-----SUCCESS PROCESS -------')\n",
    "    \n",
    "    return result.document.text"
   ]
  },
  {
   "cell_type": "code",
   "execution_count": 3,
   "metadata": {},
   "outputs": [],
   "source": [
    "def get_file(stage :str, file_path: str):\n",
    "    '''\n",
    "    Get file from storage\n",
    "    :param stage\n",
    "    :param file_path\n",
    "    :return blob\n",
    "    '''\n",
    "        \n",
    "        \n",
    "    from google.cloud import storage\n",
    "    client = storage.Client()\n",
    "    # https://console.cloud.google.com/storage/browser/[bucket-id]/\n",
    "    bucket = client.get_bucket(stage)\n",
    "    # Then do other things...\n",
    "    blob = bucket.get_blob(file_path)\n",
    "    return blob"
   ]
  },
  {
   "cell_type": "code",
   "execution_count": 4,
   "metadata": {},
   "outputs": [],
   "source": [
    "def get_credentials():\n",
    "\n",
    "    gcs_file_system = gcsfs.GCSFileSystem(project='<!----SAUDE ID PROJECT---->')\n",
    "    gcs_json_path = '<!----FILE CREDENTIALS--->'\n",
    "\n",
    "    with gcs_file_system.open(gcs_json_path) as f:\n",
    "        json_dict = json.load(f)\n",
    "\n",
    "    credentials = service_account.Credentials.from_service_account_info(json_dict)\n",
    "    return credentials"
   ]
  },
  {
   "cell_type": "code",
   "execution_count": 5,
   "metadata": {},
   "outputs": [],
   "source": [
    "file = get_file('<!----BUCKET NAME ----->','<-----FILE PATH----->')"
   ]
  },
  {
   "cell_type": "code",
   "execution_count": 6,
   "metadata": {},
   "outputs": [],
   "source": [
    "credentials = get_credentials()"
   ]
  },
  {
   "cell_type": "code",
   "execution_count": 13,
   "metadata": {},
   "outputs": [
    {
     "name": "stdout",
     "output_type": "stream",
     "text": [
      "-----SUCCESS RawDocument -------\n",
      "-----SUCCESS REQUEST -------\n",
      "-----SUCCESS PROCESS -------\n"
     ]
    }
   ],
   "source": [
    "result = get_document_orc( '<!----SAUDE ID PROJECT---->','us','<!----PROCESSOR ID ------>',file,credentials)"
   ]
  },
  {
   "cell_type": "code",
   "execution_count": 29,
   "metadata": {},
   "outputs": [
    {
     "name": "stdout",
     "output_type": "stream",
     "text": [
      "-----SUCCESS RawDocument -------\n",
      "-----SUCCESS REQUEST -------\n",
      "-----SUCCESS PROCESS -------\n",
      "-----SUCCESS RawDocument -------\n",
      "-----SUCCESS REQUEST -------\n",
      "-----SUCCESS PROCESS -------\n"
     ]
    }
   ],
   "source": [
    "templates = ['a+','fleury']\n",
    "arr_result={}\n",
    "for template in templates:\n",
    "    file = get_file('<!----BUCKET NAME ----->','<-----FILE PATH----->')\n",
    "    credentials = get_credentials()\n",
    "    arr_result[template] = get_document_orc( '<!----SAUDE ID PROJECT---->','us','<!----PROCESSOR ID ------>',file,credentials)\n",
    "    \n",
    "    \n",
    "    "
   ]
  },
  {
   "cell_type": "markdown",
   "metadata": {},
   "source": [
    "### Exam results"
   ]
  },
  {
   "cell_type": "code",
   "execution_count": 50,
   "metadata": {},
   "outputs": [],
   "source": [
    "def get_result_exam(template,exam,unit):\n",
    "    try:\n",
    "        m = re.search(fr'{exam}(.*?) {unit}',template.replace('\\n',' '))\n",
    "        return m.group(0)\n",
    "    except:\n",
    "        return None\n",
    "    return m.group(0)"
   ]
  },
  {
   "cell_type": "code",
   "execution_count": 54,
   "metadata": {},
   "outputs": [
    {
     "name": "stdout",
     "output_type": "stream",
     "text": [
      "Template a+->ORC: UREIA, soro Método: Cinético, UV RESULTADO VALORES DE REFERÊNCIA 30 mg/dL\n",
      "Template a+->ORC: CREATININA, soro Método: Cinético colorimétrico RESULTADO VALORES DE REFERÊNCIA 0,93 mg/dL\n",
      "Template a+->ORC: POTASSIO, soro Método: Potenciométrico RESULTADO VALORES DE REFERÊNCIA 4,5 mEq/L\n",
      "Template a+->ORC: None\n",
      "Template fleury->ORC: UREIA, plasma Método: Cinético, UV RESULTADO VALORES DE REFERÊNCIA 81 mg/dL\n",
      "Template fleury->ORC: CREATININA, plasma Método: Cinético Colorimétrico RESULTADO VALORES DE REFERÊNCIA 1,33 mg/dL\n",
      "Template fleury->ORC: POTASSIO, plasma Método: Potenciométrico RESULTADO VALORES DE REFERÊNCIA 5,1 mEq/L\n",
      "Template fleury->ORC: None\n"
     ]
    }
   ],
   "source": [
    "for template in templates:\n",
    "    print(f'Template {template}->ORC: {get_result_exam(arr_result[template],\"UREIA\",\"mg/dL\")}')\n",
    "    print(f'Template {template}->ORC: {get_result_exam(arr_result[template],\"CREATININA\",\"mg/dL\")}')\n",
    "    print(f'Template {template}->ORC: {get_result_exam(arr_result[template],\"POTASSIO\",\"mEq/L\")}')\n",
    "    #Exam not found\n",
    "    print(f'Template {template}->ORC: {get_result_exam(arr_result[template],\"EXAM1\",\"mEq/L\")}')\n",
    "    "
   ]
  },
  {
   "cell_type": "code",
   "execution_count": null,
   "metadata": {},
   "outputs": [],
   "source": []
  }
 ],
 "metadata": {
  "kernelspec": {
   "display_name": "Python 3",
   "language": "python",
   "name": "python3"
  },
  "language_info": {
   "codemirror_mode": {
    "name": "ipython",
    "version": 3
   },
   "file_extension": ".py",
   "mimetype": "text/x-python",
   "name": "python",
   "nbconvert_exporter": "python",
   "pygments_lexer": "ipython3",
   "version": "3.7.4"
  }
 },
 "nbformat": 4,
 "nbformat_minor": 4
}